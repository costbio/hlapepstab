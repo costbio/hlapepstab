{
 "cells": [
  {
   "cell_type": "code",
   "execution_count": 8,
   "id": "0e3c9f9a",
   "metadata": {},
   "outputs": [],
   "source": [
    "# 1) importing libraries\n",
    "import pandas as pd\n",
    "import numpy as np\n",
    "from sklearn.model_selection import train_test_split\n",
    "from sklearn.ensemble import RandomForestClassifier\n",
    "from sklearn.metrics import classification_report, confusion_matrix\n",
    "from Bio.SeqUtils.ProtParam import ProteinAnalysis\n"
   ]
  },
  {
   "cell_type": "code",
   "execution_count": 9,
   "id": "290d66dd",
   "metadata": {},
   "outputs": [],
   "source": [
    "#2)loading the dataset and defining quantiles\n",
    "def categorize_half_life(half_life):\n",
    "    if half_life < 12:\n",
    "        return \"Unstable\"\n",
    "    elif half_life < 2500:\n",
    "        return \"Moderately Stable\"\n",
    "    else:\n",
    "        return \"Highly stable\"\n",
    "\n",
    "\n",
    "df = pd.read_csv('/Users/ozgetimur/Desktop/halfpepstab/pepdist_final.csv')\n",
    "\n",
    "# Apply categorization\n",
    "df['stability_class'] = df['half_life'].apply(categorize_half_life)\n"
   ]
  },
  {
   "cell_type": "code",
   "execution_count": 13,
   "id": "89d45b31",
   "metadata": {},
   "outputs": [
    {
     "name": "stdout",
     "output_type": "stream",
     "text": [
      "                   precision    recall  f1-score   support\n",
      "\n",
      "    Highly stable       0.45      0.39      0.42        76\n",
      "Moderately Stable       0.76      0.91      0.83       210\n",
      "         Unstable       0.50      0.33      0.39        92\n",
      "\n",
      "         accuracy                           0.67       378\n",
      "        macro avg       0.57      0.55      0.55       378\n",
      "     weighted avg       0.64      0.67      0.64       378\n",
      "\n",
      "[[ 30  28  18]\n",
      " [  6 192  12]\n",
      " [ 31  31  30]]\n"
     ]
    }
   ],
   "source": [
    "\n",
    "from scipy.stats import skew\n",
    "import numpy as np\n",
    "import pandas as pd\n",
    "\n",
    "#3) Calculating the average molecular weight\n",
    "def calculate_molecular_weight(seq):\n",
    "    molecular_weight = {\n",
    "        'A': 89.09, 'R': 174.20, 'N': 132.12, 'D': 133.10, 'C': 121.15,\n",
    "        'Q': 146.15, 'E': 147.13, 'G': 75.07, 'H': 155.16, 'I': 131.17,\n",
    "        'L': 131.17, 'K': 146.19, 'M': 149.21, 'F': 165.19, 'P': 115.13,\n",
    "        'S': 105.09, 'T': 119.12, 'W': 204.23, 'Y': 181.19, 'V': 117.15\n",
    "    }\n",
    "    return np.mean([molecular_weight[aa] for aa in seq])\n",
    "\n",
    "\n",
    "#4) Calculating the average hydrophobicity\n",
    "def calculate_hydrophobicity(seq):\n",
    "    hydrophobicity = {\n",
    "        'A': 1.8, 'R': -4.5, 'N': -3.5, 'D': -3.5, 'C': 2.5,\n",
    "        'Q': -3.5, 'E': -3.5, 'G': -0.4, 'H': -3.2, 'I': 4.5,\n",
    "        'L': 3.8, 'K': -3.9, 'M': 1.9, 'F': 2.8, 'P': -1.6,\n",
    "        'S': -0.8, 'T': -0.7, 'W': -0.9, 'Y': -1.3, 'V': 4.2\n",
    "    }\n",
    "    return np.mean([hydrophobicity[aa] for aa in seq])\n",
    "\n",
    "#5) Calculating the average charge\n",
    "def calculate_charge(seq):\n",
    "    charge = {\n",
    "        'A': 0, 'R': 1, 'N': 0, 'D': -1, 'C': 0,\n",
    "        'Q': 0, 'E': -1, 'G': 0, 'H': 0, 'I': 0,\n",
    "        'L': 0, 'K': 1, 'M': 0, 'F': 0, 'P': 0,\n",
    "        'S': 0, 'T': 0, 'W': 0, 'Y': 0, 'V': 0\n",
    "    }\n",
    "    return np.mean([charge[aa] for aa in seq])\n",
    "\n",
    "\n",
    "amino_acids = list('ACDEFGHIKLMNPQRSTVWY')\n",
    "\n",
    "def peptide_features(seq):\n",
    "    return [seq.count(aa) for aa in amino_acids]\n",
    "\n",
    "peptide_feature_matrix = np.array([peptide_features(seq) for seq in df['peptide_seq']])\n",
    "# 6) a DataFrame for the features\n",
    "features_df = pd.DataFrame(peptide_feature_matrix, columns=amino_acids)\n",
    "# Adding the stability class to the features DataFrame\n",
    "features_df['stability_class'] = df['stability_class']\n",
    "\n",
    "# 7) Splitting the data into features and target\n",
    "X = features_df.drop('stability_class', axis=1)\n",
    "y = features_df['stability_class']\n",
    "# 8)Splitting the data into training and testing sets\n",
    "X_train, X_test, y_train, y_test = train_test_split(X, y, test_size=0.2, random_state=42)\n",
    "#9) Initializing the Random Forest Classifier\n",
    "rf = RandomForestClassifier(n_estimators=100, random_state=42)\n",
    "# 10)Fitting the model\n",
    "rf.fit(X_train, y_train)\n",
    "# Making predictions\n",
    "y_pred = rf.predict(X_test)\n",
    "# Printing the classification report\n",
    "print(classification_report(y_test, y_pred))\n",
    "# Printing the confusion matrix\n",
    "print(confusion_matrix(y_test, y_pred))\n"
   ]
  },
  {
   "cell_type": "code",
   "execution_count": null,
   "id": "0a730ed8",
   "metadata": {},
   "outputs": [],
   "source": []
  }
 ],
 "metadata": {
  "kernelspec": {
   "display_name": "base",
   "language": "python",
   "name": "python3"
  },
  "language_info": {
   "codemirror_mode": {
    "name": "ipython",
    "version": 3
   },
   "file_extension": ".py",
   "mimetype": "text/x-python",
   "name": "python",
   "nbconvert_exporter": "python",
   "pygments_lexer": "ipython3",
   "version": "3.12.7"
  }
 },
 "nbformat": 4,
 "nbformat_minor": 5
}
