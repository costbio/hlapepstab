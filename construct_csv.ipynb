{
 "cells": [
  {
   "cell_type": "code",
   "execution_count": 1,
   "id": "79a45e55",
   "metadata": {},
   "outputs": [],
   "source": [
    "import pandas as pd\n",
    "\n",
    "# Peptide list provided by the user\n",
    "peptides = [\n",
    "    \"RVRQAWDTL\", \"TMLYNKMEF\", \"VVPSYIPLV\", \"KINIFMAFL\", \"KLAAAWGGS\", \"KLVMSQANV\", \"RLVDDFLLV\", \"ITDQVPFSV\",\n",
    "    \"FAFRDLCIV\", \"TLHEYMLDL\", \"KLPQLCTEL\", \"RLVTLKDIV\", \"ALFEDYPGC\", \"CLGGLLTMV\", \"DLMGYIPLV\", \"FTIGNMFSL\",\n",
    "    \"ISDPLTSGL\", \"KLQDLTLRC\", \"KQLELFWVI\", \"LVEKVLKIL\", \"SIFERIREA\", \"SRWAISHWL\", \"TVYDINNEV\", \"YMYDFILRF\",\n",
    "    \"YQYGDNLIL\", \"FIDKKVLKV\", \"SVWSKLQSI\", \"GLSIVMPVG\", \"FGKWRPVQL\", \"FLEESHPGI\", \"FQWHEAMFL\", \"FTASVSTVV\",\n",
    "    \"GLHAAAPHL\", \"IMAVGLVSL\", \"YMKPGSSPL\", \"VLMIKALEL\", \"KIFCISIFL\", \"FTSSFYNYV\", \"MQYEVTQHA\", \"SMVKLPIFL\",\n",
    "    \"TMPELAWAV\", \"YLHPKDKYL\", \"YMQQVSEGL\", \"CLFKDWEEL\", \"NLARTISEA\", \"ELDDYMFFV\", \"LQNFCQHLV\", \"MAMTGLPQA\",\n",
    "    \"SMLLDNMEV\", \"YQAGISAAL\", \"FLTQNFGPV\", \"KINRSKTPY\", \"KLLPEGYWV\", \"REFEAQNVP\", \"YMLKDSAPT\", \"ILSAVVGIV\",\n",
    "    \"ILSAVVGIV\", \"VANNTRLWV\", \"HAMSSTHEA\", \"EMFGGTPAV\", \"FVQGVIWNI\", \"GMRDVSFEL\", \"LIMEFNSLL\", \"VMTEGRHAV\",\n",
    "    \"YTLNDAPYI\", \"HLSLRGLPV\", \"QLFNHTMFI\", \"QTYKWETFL\", \"FLAVGGVLL\", \"ITDWLNFTL\", \"IVLSHILPL\", \"IYDFYNAEY\",\n",
    "    \"SMLPPGYPV\", \"VPAWLPLGI\", \"YMDAVFEYT\", \"TLNDLETDV\", \"WMNRLIAFA\", \"AMQDPNPEV\", \"FIAEIDHWI\", \"HCIDKTPGL\",\n",
    "    \"RTDAWSYPV\", \"VLYCVHQEI\", \"YIITCCLFA\", \"YITNRLELL\", \"SLSEKTVLL\", \"LLHDIGKPV\", \"SLDQSVVEL\", \"YPPPRYITV\",\n",
    "    \"YLPLSVFII\", \"TVYDINNEV\", \"VLVGGVLAA\", \"FVDTMSIYI\", \"HLTRVGPYL\", \"LIGFALFGV\", \"LLLTLLATV\", \"SVASGIFNV\",\n",
    "    \"YVVWLMFSL\", \"YLDKVRATV\", \"KVEDPFYWV\", \"NLSWLSLDV\"\n",
    "]\n",
    "\n",
    "# Create DataFrame\n",
    "df = pd.DataFrame(peptides, columns=[\"Peptide_sequence\"])\n",
    "\n",
    "# Save to CSV\n",
    "df.to_csv('peptidist_100_set8.csv', index=False )\n",
    "\n",
    "df_pepdist = pd.read_csv('peptidist_100_set8.csv')\n"
   ]
  },
  {
   "cell_type": "code",
   "execution_count": 13,
   "id": "23b1e6e2",
   "metadata": {},
   "outputs": [
    {
     "name": "stdout",
     "output_type": "stream",
     "text": [
      "CSV file saved as peptidist_100_set19.csv\n"
     ]
    }
   ],
   "source": [
    "import pandas as pd\n",
    "\n",
    "# Your list of peptides\n",
    "peptides = [\n",
    "    \"IQNVPGPHR\", \"LFDLDEDDE\", \"LRTFSILNR\", \"MKDEPVVFS\", \"SQDTTIPDV\", \"AFIHIPGDT\",\n",
    "    \"DSMFLMTAT\", \"YLVDYGLVS\", \"KVQRQIQVH\", \"MNEENRFVT\", \"VSSGKNIKR\", \"QIGDIIIAV\",\n",
    "    \"QDGLICGLR\", \"YLFGGFSTL\", \"QVSIIQEKL\", \"VLISPVSIL\", \"ASTVIYRGT\", \"DDQEKKILM\",\n",
    "    \"EWAFWENKK\", \"EYLFEVDNL\", \"FLLRRWGGT\", \"GVSTDIPSA\", \"HKNKFMAIL\", \"HLHQQLSNT\",\n",
    "    \"KNISGQSPA\", \"LAKLTEAIT\", \"LFPQLSAIA\", \"LIWTLDANI\", \"LSLLQLPRD\", \"RFEVKKRDG\",\n",
    "    \"RTLAAMPEE\", \"SGQSPARTS\", \"TAQEQHNAA\", \"TSSDPGTNT\", \"FLKIKVTAA\", \"FLVINRLGA\",\n",
    "    \"LFSYGTLII\", \"LSLPRIALV\", \"QLLEAVYGN\", \"SQYANCSSI\", \"TFALKKLII\", \"DTGEESASS\",\n",
    "    \"FLLQRWGGT\", \"GILGSLGLR\", \"MMVIFRLMR\", \"MVTLRKERL\", \"RAADEPPLV\", \"VMLIGIEIL\",\n",
    "    \"WFNYLFGGF\", \"RLEELLPAV\", \"RLMRTNFLI\", \"LITGGRRTR\", \"FRFEVKKRD\", \"GLNLEGNGV\",\n",
    "    \"GRLIWTLDA\", \"MLTPINEEA\", \"SLAKHGEYA\", \"ATNLEYKTL\", \"GMLRFANPL\", \"GTLEFTPID\",\n",
    "    \"KLTDSLSSQ\", \"RLEEEINNQ\", \"SQMTSTFIM\", \"TLIIDEVHE\", \"FVRLDRPHT\", \"GVPPKVVNY\",\n",
    "    \"LIHQGMHMV\", \"CLPPPPDGV\", \"KIWMAPSLT\", \"PWLTEKEAM\", \"FSTLDKITD\", \"AALSSLAKH\",\n",
    "    \"AMPEEETTE\", \"CLHHAYQGD\", \"DGIRGFPRC\", \"IDQIIHDFV\", \"KILMNFHQK\", \"LLIHQGMHM\",\n",
    "    \"LPAVSSGKN\", \"TVLDHILQK\", \"FSYGTLIID\", \"MLIGIEILN\", \"SLHSLSVET\", \"FQLNDTIHL\",\n",
    "    \"VIHNSTLQV\", \"YQGDYKLFL\", \"LLWFNYLFG\", \"MIRWLGGIL\", \"DVDKLVCRD\", \"KILTAGLSV\",\n",
    "    \"KLGLITNTI\", \"LLSQYVDDA\", \"SMFLMTATL\", \"HMMKDEPVV\", \"VLRDDLCEA\"\n",
    "]\n",
    "\n",
    "   \n",
    "# Create DataFrame and save as CSV\n",
    "df = pd.DataFrame(peptides, columns=[\"Peptide_sequence\"])\n",
    "df.to_csv(\"peptidist_100_set19.csv\", index=False)\n",
    "\n",
    "print(\"CSV file saved as peptidist_100_set19.csv\")\n"
   ]
  }
 ],
 "metadata": {
  "kernelspec": {
   "display_name": "base",
   "language": "python",
   "name": "python3"
  },
  "language_info": {
   "codemirror_mode": {
    "name": "ipython",
    "version": 3
   },
   "file_extension": ".py",
   "mimetype": "text/x-python",
   "name": "python",
   "nbconvert_exporter": "python",
   "pygments_lexer": "ipython3",
   "version": "3.12.7"
  }
 },
 "nbformat": 4,
 "nbformat_minor": 5
}
