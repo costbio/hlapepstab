{
 "cells": [
  {
   "cell_type": "code",
   "execution_count": 1,
   "id": "d9346de7",
   "metadata": {},
   "outputs": [],
   "source": [
    "import pandas as pd\n",
    "import numpy as np\n",
    "from sklearn.model_selection import train_test_split\n",
    "from sklearn.ensemble import RandomForestClassifier\n",
    "from sklearn.metrics import classification_report, confusion_matrix\n"
   ]
  },
  {
   "cell_type": "code",
   "execution_count": 4,
   "id": "bd845bd8",
   "metadata": {},
   "outputs": [],
   "source": [
    "def categorize_half_life(half_life):\n",
    "    if half_life < 100:\n",
    "        return \"Unstable\"\n",
    "    elif half_life < 1000:\n",
    "        return \"Moderately Stable\"\n",
    "    else:\n",
    "        return \"Highly stable\"\n",
    "\n",
    "# Load the dataset\n",
    "df = pd.read_csv('df_pepdist_2025_04_24.csv')\n",
    "\n",
    "# Apply categorization\n",
    "df['stability_class'] = df['half_life'].apply(categorize_half_life)\n"
   ]
  },
  {
   "cell_type": "code",
   "execution_count": 6,
   "id": "3681dbec",
   "metadata": {},
   "outputs": [
    {
     "name": "stdout",
     "output_type": "stream",
     "text": [
      "                   precision    recall  f1-score   support\n",
      "\n",
      "    Highly stable       0.52      0.84      0.64        49\n",
      "Moderately Stable       0.10      0.06      0.07        18\n",
      "         Unstable       0.33      0.04      0.07        25\n",
      "\n",
      "         accuracy                           0.47        92\n",
      "        macro avg       0.32      0.31      0.26        92\n",
      "     weighted avg       0.39      0.47      0.37        92\n",
      "\n",
      "[[41  6  2]\n",
      " [17  1  0]\n",
      " [21  3  1]]\n"
     ]
    },
    {
     "data": {
      "text/plain": [
       "['rf_peptide_stability_model.pkl']"
      ]
     },
     "execution_count": 6,
     "metadata": {},
     "output_type": "execute_result"
    }
   ],
   "source": [
    "# Example: count the number of each amino acid in the sequence\n",
    "amino_acids = list('ACDEFGHIKLMNPQRSTVWY')\n",
    "\n",
    "def peptide_features(seq):\n",
    "    return [seq.count(aa) for aa in amino_acids]\n",
    "\n",
    "peptide_feature_matrix = np.array([peptide_features(seq) for seq in df['peptide_seq']])\n",
    "# Create a DataFrame for the features\n",
    "features_df = pd.DataFrame(peptide_feature_matrix, columns=amino_acids)\n",
    "# Add the stability class to the features DataFrame\n",
    "features_df['stability_class'] = df['stability_class']\n",
    "# Split the data into features and target\n",
    "X = features_df.drop('stability_class', axis=1)\n",
    "y = features_df['stability_class']\n",
    "# Split the data into training and testing sets\n",
    "X_train, X_test, y_train, y_test = train_test_split(X, y, test_size=0.2, random_state=42)\n",
    "# Initialize the Random Forest Classifier\n",
    "rf = RandomForestClassifier(n_estimators=100, random_state=42)\n",
    "# Fit the model\n",
    "rf.fit(X_train, y_train)\n",
    "# Make predictions\n",
    "y_pred = rf.predict(X_test)\n",
    "# Print the classification report\n",
    "print(classification_report(y_test, y_pred))\n",
    "# Print the confusion matrix\n",
    "print(confusion_matrix(y_test, y_pred))\n",
    "# Save the model\n",
    "import joblib\n",
    "joblib.dump(rf, 'rf_peptide_stability_model.pkl')"
   ]
  }
 ],
 "metadata": {
  "kernelspec": {
   "display_name": "base",
   "language": "python",
   "name": "python3"
  },
  "language_info": {
   "codemirror_mode": {
    "name": "ipython",
    "version": 3
   },
   "file_extension": ".py",
   "mimetype": "text/x-python",
   "name": "python",
   "nbconvert_exporter": "python",
   "pygments_lexer": "ipython3",
   "version": "3.12.7"
  }
 },
 "nbformat": 4,
 "nbformat_minor": 5
}
